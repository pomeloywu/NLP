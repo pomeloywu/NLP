{
 "cells": [
  {
   "cell_type": "code",
   "execution_count": 1,
   "id": "523e7ed5",
   "metadata": {},
   "outputs": [],
   "source": [
    "import pandas as pd\n",
    "import numpy as np\n",
    "from sklearn import preprocessing\n",
    "import gensim\n",
    "from sklearn.model_selection import train_test_split"
   ]
  },
  {
   "cell_type": "markdown",
   "id": "15a3649c",
   "metadata": {},
   "source": [
    "### Load Data"
   ]
  },
  {
   "cell_type": "code",
   "execution_count": 2,
   "id": "7e817ffc",
   "metadata": {},
   "outputs": [
    {
     "data": {
      "text/html": [
       "<div>\n",
       "<style scoped>\n",
       "    .dataframe tbody tr th:only-of-type {\n",
       "        vertical-align: middle;\n",
       "    }\n",
       "\n",
       "    .dataframe tbody tr th {\n",
       "        vertical-align: top;\n",
       "    }\n",
       "\n",
       "    .dataframe thead th {\n",
       "        text-align: right;\n",
       "    }\n",
       "</style>\n",
       "<table border=\"1\" class=\"dataframe\">\n",
       "  <thead>\n",
       "    <tr style=\"text-align: right;\">\n",
       "      <th></th>\n",
       "      <th>title</th>\n",
       "      <th>genre</th>\n",
       "      <th>summary</th>\n",
       "      <th>clean_text</th>\n",
       "      <th>clean_title</th>\n",
       "      <th>class</th>\n",
       "    </tr>\n",
       "  </thead>\n",
       "  <tbody>\n",
       "    <tr>\n",
       "      <th>0</th>\n",
       "      <td>Drowned Wednesday</td>\n",
       "      <td>fantasy</td>\n",
       "      <td>Drowned Wednesday is the first Trustee among ...</td>\n",
       "      <td>drown wednesday first trustee among morrow day...</td>\n",
       "      <td>drown wednesday</td>\n",
       "      <td>1</td>\n",
       "    </tr>\n",
       "    <tr>\n",
       "      <th>1</th>\n",
       "      <td>The Lost Hero</td>\n",
       "      <td>fantasy</td>\n",
       "      <td>As the book opens, Jason awakens on a school ...</td>\n",
       "      <td>book open jason awakens school bus unable reme...</td>\n",
       "      <td>lose hero</td>\n",
       "      <td>1</td>\n",
       "    </tr>\n",
       "    <tr>\n",
       "      <th>2</th>\n",
       "      <td>Thendara House</td>\n",
       "      <td>fantasy</td>\n",
       "      <td>The novel concerns the dwelling of the Darkov...</td>\n",
       "      <td>novel concern dwell darkovan order renunciates...</td>\n",
       "      <td>thendara house</td>\n",
       "      <td>1</td>\n",
       "    </tr>\n",
       "    <tr>\n",
       "      <th>3</th>\n",
       "      <td>The Thief</td>\n",
       "      <td>fantasy</td>\n",
       "      <td>Gen is released from prison by the magus, the...</td>\n",
       "      <td>gen release prison magus king scholar magus fi...</td>\n",
       "      <td>thief</td>\n",
       "      <td>1</td>\n",
       "    </tr>\n",
       "    <tr>\n",
       "      <th>4</th>\n",
       "      <td>The Sweet Far Thing</td>\n",
       "      <td>fantasy</td>\n",
       "      <td>The prologue begins with two men who are sear...</td>\n",
       "      <td>prologue begin two men search river london thr...</td>\n",
       "      <td>sweet far thing</td>\n",
       "      <td>1</td>\n",
       "    </tr>\n",
       "    <tr>\n",
       "      <th>...</th>\n",
       "      <td>...</td>\n",
       "      <td>...</td>\n",
       "      <td>...</td>\n",
       "      <td>...</td>\n",
       "      <td>...</td>\n",
       "      <td>...</td>\n",
       "    </tr>\n",
       "    <tr>\n",
       "      <th>2995</th>\n",
       "      <td>The Time Traveler's Wife</td>\n",
       "      <td>fantasy</td>\n",
       "      <td>This is the extraordinary love story of Clare ...</td>\n",
       "      <td>extraordinary love story clare henry meet clar...</td>\n",
       "      <td>time traveler wife</td>\n",
       "      <td>1</td>\n",
       "    </tr>\n",
       "    <tr>\n",
       "      <th>2996</th>\n",
       "      <td>Fantastic Beasts and Where to Find Them: The O...</td>\n",
       "      <td>fantasy</td>\n",
       "      <td>J.K. Rowling's screenwriting debut is captured...</td>\n",
       "      <td>j k rowling screenwriting debut capture exciti...</td>\n",
       "      <td>fantastic beast find original screenplay</td>\n",
       "      <td>1</td>\n",
       "    </tr>\n",
       "    <tr>\n",
       "      <th>2997</th>\n",
       "      <td>Charlie and the Chocolate Factory</td>\n",
       "      <td>fantasy</td>\n",
       "      <td>Charlie Bucket's wonderful adventure begins wh...</td>\n",
       "      <td>charlie bucket wonderful adventure begin find ...</td>\n",
       "      <td>charlie chocolate factory</td>\n",
       "      <td>1</td>\n",
       "    </tr>\n",
       "    <tr>\n",
       "      <th>2998</th>\n",
       "      <td>Frostbite</td>\n",
       "      <td>fantasy</td>\n",
       "      <td>Rose loves Dimitri, Dimitri might love Tasha, ...</td>\n",
       "      <td>rise love dimitri dimitri might love tasha mas...</td>\n",
       "      <td>frostbite</td>\n",
       "      <td>1</td>\n",
       "    </tr>\n",
       "    <tr>\n",
       "      <th>2999</th>\n",
       "      <td>Radiance</td>\n",
       "      <td>fantasy</td>\n",
       "      <td>The Prince of no value\\nBrishen Khaskem, princ...</td>\n",
       "      <td>prince value brishen khaskem prince kai live c...</td>\n",
       "      <td>radiance</td>\n",
       "      <td>1</td>\n",
       "    </tr>\n",
       "  </tbody>\n",
       "</table>\n",
       "<p>2991 rows × 6 columns</p>\n",
       "</div>"
      ],
      "text/plain": [
       "                                                  title    genre  \\\n",
       "0                                     Drowned Wednesday  fantasy   \n",
       "1                                         The Lost Hero  fantasy   \n",
       "2                                        Thendara House  fantasy   \n",
       "3                                             The Thief  fantasy   \n",
       "4                                   The Sweet Far Thing  fantasy   \n",
       "...                                                 ...      ...   \n",
       "2995                           The Time Traveler's Wife  fantasy   \n",
       "2996  Fantastic Beasts and Where to Find Them: The O...  fantasy   \n",
       "2997                  Charlie and the Chocolate Factory  fantasy   \n",
       "2998                                          Frostbite  fantasy   \n",
       "2999                                           Radiance  fantasy   \n",
       "\n",
       "                                                summary  \\\n",
       "0      Drowned Wednesday is the first Trustee among ...   \n",
       "1      As the book opens, Jason awakens on a school ...   \n",
       "2      The novel concerns the dwelling of the Darkov...   \n",
       "3      Gen is released from prison by the magus, the...   \n",
       "4      The prologue begins with two men who are sear...   \n",
       "...                                                 ...   \n",
       "2995  This is the extraordinary love story of Clare ...   \n",
       "2996  J.K. Rowling's screenwriting debut is captured...   \n",
       "2997  Charlie Bucket's wonderful adventure begins wh...   \n",
       "2998  Rose loves Dimitri, Dimitri might love Tasha, ...   \n",
       "2999  The Prince of no value\\nBrishen Khaskem, princ...   \n",
       "\n",
       "                                             clean_text  \\\n",
       "0     drown wednesday first trustee among morrow day...   \n",
       "1     book open jason awakens school bus unable reme...   \n",
       "2     novel concern dwell darkovan order renunciates...   \n",
       "3     gen release prison magus king scholar magus fi...   \n",
       "4     prologue begin two men search river london thr...   \n",
       "...                                                 ...   \n",
       "2995  extraordinary love story clare henry meet clar...   \n",
       "2996  j k rowling screenwriting debut capture exciti...   \n",
       "2997  charlie bucket wonderful adventure begin find ...   \n",
       "2998  rise love dimitri dimitri might love tasha mas...   \n",
       "2999  prince value brishen khaskem prince kai live c...   \n",
       "\n",
       "                                   clean_title  class  \n",
       "0                              drown wednesday      1  \n",
       "1                                    lose hero      1  \n",
       "2                               thendara house      1  \n",
       "3                                        thief      1  \n",
       "4                              sweet far thing      1  \n",
       "...                                        ...    ...  \n",
       "2995                        time traveler wife      1  \n",
       "2996  fantastic beast find original screenplay      1  \n",
       "2997                 charlie chocolate factory      1  \n",
       "2998                                 frostbite      1  \n",
       "2999                                  radiance      1  \n",
       "\n",
       "[2991 rows x 6 columns]"
      ]
     },
     "execution_count": 2,
     "metadata": {},
     "output_type": "execute_result"
    }
   ],
   "source": [
    "df_data = pd.read_csv('./Data/data_processed.csv').dropna()\n",
    "le = preprocessing.LabelEncoder()\n",
    "df_data['class'] = le.fit_transform(df_data.genre)\n",
    "df_data"
   ]
  },
  {
   "cell_type": "code",
   "execution_count": 3,
   "id": "352aa17e",
   "metadata": {},
   "outputs": [
    {
     "data": {
      "text/plain": [
       "array(['crime', 'fantasy', 'history', 'horror', 'science', 'thriller'],\n",
       "      dtype=object)"
      ]
     },
     "execution_count": 3,
     "metadata": {},
     "output_type": "execute_result"
    }
   ],
   "source": [
    "le.classes_"
   ]
  },
  {
   "cell_type": "code",
   "execution_count": 4,
   "id": "7c53b344",
   "metadata": {},
   "outputs": [],
   "source": [
    "X_train, X_test, y_train, y_test = train_test_split(df_data[['clean_text', 'clean_title']],\n",
    "                                                   df_data['class'], random_state = 42,\n",
    "                                                   test_size = 0.2, stratify=df_data['class'])"
   ]
  },
  {
   "cell_type": "markdown",
   "id": "5d1a7c6e",
   "metadata": {},
   "source": [
    "### CounterVectorize"
   ]
  },
  {
   "cell_type": "code",
   "execution_count": 5,
   "id": "0a14c330",
   "metadata": {},
   "outputs": [],
   "source": [
    "from sklearn.feature_extraction.text import CountVectorizer\n",
    "count_vect = CountVectorizer()\n",
    "X_train_countvec = count_vect.fit_transform(list(X_train.clean_text)).toarray()\n",
    "X_test_countvec = count_vect.transform(list(X_test.clean_text)).toarray()"
   ]
  },
  {
   "cell_type": "code",
   "execution_count": 6,
   "id": "bc0759c4",
   "metadata": {},
   "outputs": [],
   "source": [
    "from sklearn.naive_bayes import MultinomialNB\n",
    "\n",
    "clf = MultinomialNB().fit(X_train_countvec, y_train)\n",
    "y_pred = clf.predict(X_test_countvec)"
   ]
  },
  {
   "cell_type": "code",
   "execution_count": 7,
   "id": "4f16c6f1",
   "metadata": {},
   "outputs": [
    {
     "name": "stdout",
     "output_type": "stream",
     "text": [
      "Accuracy is 0.7212020033388982\n"
     ]
    },
    {
     "data": {
      "text/plain": [
       "array([[74,  0,  6,  9,  1, 10],\n",
       "       [ 2, 61, 13, 15,  5,  4],\n",
       "       [ 3,  2, 83,  6,  1,  5],\n",
       "       [ 6,  3,  3, 71,  4, 12],\n",
       "       [ 0,  1,  5, 11, 80,  3],\n",
       "       [15,  1,  6, 13,  2, 63]], dtype=int64)"
      ]
     },
     "execution_count": 7,
     "metadata": {},
     "output_type": "execute_result"
    }
   ],
   "source": [
    "from sklearn.metrics import confusion_matrix\n",
    "from sklearn.metrics import accuracy_score\n",
    "print('Accuracy is {}'.format(accuracy_score(y_test, y_pred)))\n",
    "confusion_matrix(y_test, y_pred)"
   ]
  },
  {
   "cell_type": "code",
   "execution_count": 8,
   "id": "4c8224ef",
   "metadata": {},
   "outputs": [],
   "source": [
    "import numpy as np\n",
    "import torch\n",
    "from torch import nn\n",
    "from torch import optim\n",
    "import matplotlib.pyplot as plt\n",
    "import pandas as pd\n",
    "from torch.utils.data import Dataset,DataLoader\n",
    "import torch.nn.functional as F\n",
    "from sklearn.model_selection import train_test_split"
   ]
  },
  {
   "cell_type": "code",
   "execution_count": 9,
   "id": "04973506",
   "metadata": {},
   "outputs": [],
   "source": [
    "## NN model\n",
    "class NN(nn.Module):\n",
    "    def __init__(self,in_feature,out_feature):\n",
    "        super().__init__()\n",
    "        self.n1 = nn.Linear(in_feature,256)\n",
    "        self.n2 = nn.Linear(256,128)\n",
    "        self.n3 = nn.Linear(128,64)\n",
    "        self.n4 = nn.Linear(64,out_feature)\n",
    "    \n",
    "    def forward(self, x):\n",
    "        x = self.n1(x)\n",
    "        x = F.relu(x)\n",
    "        x = self.n2(x)\n",
    "        x = F.relu(x)\n",
    "        x = self.n3(x)\n",
    "        x = F.relu(x)\n",
    "        output = self.n4(x)\n",
    "        return output\n",
    "def loss_function(output,target):\n",
    "    target_onehot = []\n",
    "    for i in range(len(target)):\n",
    "        temp = np.zeros(6)\n",
    "        temp[target[i].int().cpu().detach().numpy()] = 1\n",
    "        target_onehot.append(temp)\n",
    "    tar_oh_np = np.array(target_onehot)\n",
    "    tar_tensor = torch.tensor(tar_oh_np).to(device).float()\n",
    "    return criterion(output,tar_tensor)"
   ]
  },
  {
   "cell_type": "code",
   "execution_count": 10,
   "id": "2fc1ce7e",
   "metadata": {},
   "outputs": [],
   "source": [
    "def train(model,criterion, optimizer,loss_list1,loss_list2):\n",
    "    train_loss = 0\n",
    "    model.train()\n",
    "    for data, target in custom_trainloader:\n",
    "        data, target = data.to(device), target.to(device)\n",
    "        data = data.float()\n",
    "        target = target.float()\n",
    "        optimizer.zero_grad()\n",
    "        output = model(data)\n",
    "        loss = loss_function(output,target)\n",
    "        loss.backward()\n",
    "        optimizer.step()\n",
    "        train_loss += loss.item()\n",
    "    train_loss = (train_loss)/len(custom_trainloader)\n",
    "    loss_list1.append(train_loss)\n",
    "    test_loss = 0\n",
    "    model.eval()\n",
    "    with torch.no_grad():\n",
    "        for data, target in custom_valiloader:\n",
    "            data, target = data.to(device), target.to(device)\n",
    "            data = data.float()\n",
    "            target = target.float()\n",
    "            output = model(data)\n",
    "            loss = loss_function(output,target)\n",
    "            test_loss += loss.item() # sum up batch loss\n",
    "    test_loss = (test_loss)/len(custom_valiloader)\n",
    "    loss_list2.append(test_loss)\n",
    "    print('Train({}): Loss: {:.4f}'.format(epoch, train_loss))\n",
    "\n",
    "\n",
    "def plot_loss(losses_tr,losses_vali,upbound):\n",
    "    plt.figure()\n",
    "    plt.plot(list(range(len(losses_tr))), losses_tr, color='blue', linewidth=2, label='Train loss')\n",
    "    plt.plot(list(range(len(losses_vali))), losses_vali, color='red', linewidth=2, label='Validation loss')\n",
    "    plt.legend()\n",
    "    plt.ylim(0,upbound)\n",
    "    plt.xlabel('iterations')\n",
    "    plt.ylabel('MSE')\n",
    "    plt.grid()\n",
    "    plt.show()"
   ]
  },
  {
   "cell_type": "code",
   "execution_count": 11,
   "id": "88fed7d5",
   "metadata": {},
   "outputs": [],
   "source": [
    "class CustomDataset(torch.utils.data.Dataset):\n",
    "\n",
    "    def __init__(self, X, Y, transform = None):\n",
    "        self.X = X\n",
    "        self.Y = Y\n",
    "        self.transform = transform\n",
    "\n",
    "    def __len__(self):\n",
    "        return len(self.Y)\n",
    "\n",
    "    def __getitem__(self, idx):\n",
    "        return self.X[idx], self.Y[idx]\n",
    "batch_size=256    \n",
    "custom_trainset = CustomDataset(X_train_countvec,y_train.values)\n",
    "custom_trainloader = torch.utils.data.DataLoader(custom_trainset, batch_size=batch_size, shuffle=True)\n",
    "custom_valiset = CustomDataset(X_test_countvec,y_test.values)\n",
    "custom_valiloader = torch.utils.data.DataLoader(custom_valiset, batch_size=batch_size, shuffle=True)"
   ]
  },
  {
   "cell_type": "code",
   "execution_count": 12,
   "id": "45b98a5a",
   "metadata": {
    "scrolled": false
   },
   "outputs": [
    {
     "name": "stdout",
     "output_type": "stream",
     "text": [
      "Train(1): Loss: 0.1517\n",
      "Train(2): Loss: 0.1051\n",
      "Train(3): Loss: 0.0691\n",
      "Train(4): Loss: 0.0427\n",
      "Train(5): Loss: 0.0253\n",
      "Train(6): Loss: 0.0160\n",
      "Train(7): Loss: 0.0103\n",
      "Train(8): Loss: 0.0076\n",
      "Train(9): Loss: 0.0060\n",
      "Train(10): Loss: 0.0051\n",
      "Train(11): Loss: 0.0041\n",
      "Train(12): Loss: 0.0036\n",
      "Train(13): Loss: 0.0032\n",
      "Train(14): Loss: 0.0027\n",
      "Train(15): Loss: 0.0024\n",
      "Train(16): Loss: 0.0024\n",
      "Train(17): Loss: 0.0023\n",
      "Train(18): Loss: 0.0021\n",
      "Train(19): Loss: 0.0023\n",
      "Train(20): Loss: 0.0021\n"
     ]
    }
   ],
   "source": [
    "## Training the model\n",
    "seed = 4\n",
    "device = 'cuda'\n",
    "num_epochs = 20\n",
    "\n",
    "\n",
    "device = torch.device(device)\n",
    "torch.manual_seed(1)\n",
    "torch.cuda.manual_seed(1)\n",
    "model = NN(35781,6).to(device)\n",
    "optimizer = optim.Adam(model.parameters(),lr=0.001,weight_decay=1e-8)\n",
    "criterion = nn.MSELoss()\n",
    "loss_tr1 = []\n",
    "loss_te1 = []\n",
    "for epoch in range(1, num_epochs + 1):\n",
    "    train(model, criterion, optimizer,loss_tr1,loss_te1)\n",
    "    #test(model, device, custom_valiloader, criterion, epoch,loss_te1)\n",
    "\n",
    "\n",
    "loss_tr = [] \n",
    "loss_te = []\n",
    "for i in range(len(loss_tr1)):\n",
    "    loss_tr.append(loss_tr1[i])\n",
    "for i in range(len(loss_te1)):\n",
    "    loss_te.append(loss_te1[i])"
   ]
  },
  {
   "cell_type": "code",
   "execution_count": 13,
   "id": "c802e8ec",
   "metadata": {},
   "outputs": [
    {
     "data": {
      "image/png": "[encoded data removed]",
      "text/plain": [
       "<Figure size 432x288 with 1 Axes>"
      ]
     },
     "metadata": {
      "needs_background": "light"
     },
     "output_type": "display_data"
    }
   ],
   "source": [
    "plot_loss(loss_tr,loss_te,.5)"
   ]
  },
  {
   "cell_type": "code",
   "execution_count": 23,
   "id": "93e2bc76",
   "metadata": {},
   "outputs": [
    {
     "name": "stdout",
     "output_type": "stream",
     "text": [
      "Accuracy is 0.741\n",
      "Confusion matrix is:\n",
      "[[80  0  5  6  2  7]\n",
      " [ 2 66 12 11  8  1]\n",
      " [ 1  1 93  1  2  2]\n",
      " [12  4  2 62  5 14]\n",
      " [ 0  3  6  8 83  0]\n",
      " [15  2  6 14  3 60]]\n"
     ]
    }
   ],
   "source": [
    "## Accuracy Validation\n",
    "acc = 0\n",
    "with torch.no_grad():\n",
    "    X = torch.tensor(custom_valiset.X).to(device).float()\n",
    "    output = model(X)\n",
    "    output = output.cpu().detach().numpy()\n",
    "    y_pred = np.argmax(output,axis=1)\n",
    "print('Accuracy is {:.3f}'.format(accuracy_score(y_test, y_pred)))\n",
    "print('Confusion matrix is:\\n{}'.format(confusion_matrix(y_test, y_pred)))\n"
   ]
  },
  {
   "cell_type": "markdown",
   "id": "8a805b8d",
   "metadata": {},
   "source": [
    "### TF-IDF"
   ]
  },
  {
   "cell_type": "code",
   "execution_count": 24,
   "id": "f10e7f36",
   "metadata": {},
   "outputs": [],
   "source": [
    "from sklearn.feature_extraction.text import TfidfVectorizer\n",
    "\n",
    "tfidf_vector = TfidfVectorizer()\n",
    "X_train_tfidf = tfidf_vector.fit_transform(list(X_train.clean_text))\n",
    "X_test_tfidf = tfidf_vector.transform(list(X_test.clean_text))"
   ]
  },
  {
   "cell_type": "code",
   "execution_count": 25,
   "id": "80fda0b0",
   "metadata": {},
   "outputs": [],
   "source": [
    "from sklearn.naive_bayes import MultinomialNB\n",
    "\n",
    "clf = MultinomialNB().fit(X_train_tfidf, y_train)\n",
    "y_pred = clf.predict(X_test_tfidf)"
   ]
  },
  {
   "cell_type": "code",
   "execution_count": 26,
   "id": "437d8e92",
   "metadata": {},
   "outputs": [
    {
     "name": "stdout",
     "output_type": "stream",
     "text": [
      "Accuracy is 0.7395659432387313\n"
     ]
    },
    {
     "data": {
      "text/plain": [
       "array([[80,  0,  5,  4,  0, 11],\n",
       "       [ 3, 70, 11,  9,  4,  3],\n",
       "       [ 2,  3, 86,  2,  1,  6],\n",
       "       [ 7,  4,  5, 57,  4, 22],\n",
       "       [ 0,  1,  6,  9, 81,  3],\n",
       "       [ 9,  1,  6, 14,  1, 69]], dtype=int64)"
      ]
     },
     "execution_count": 26,
     "metadata": {},
     "output_type": "execute_result"
    }
   ],
   "source": [
    "from sklearn.metrics import confusion_matrix\n",
    "from sklearn.metrics import accuracy_score\n",
    "print('Accuracy is {}'.format(accuracy_score(y_test, y_pred)))\n",
    "confusion_matrix(y_test, y_pred)"
   ]
  },
  {
   "cell_type": "code",
   "execution_count": 27,
   "id": "9ff3b778",
   "metadata": {},
   "outputs": [],
   "source": [
    "class NN(nn.Module):\n",
    "    def __init__(self,in_feature,out_feature):\n",
    "        super().__init__()\n",
    "        self.n1 = nn.Linear(in_feature,1024)\n",
    "        self.n2 = nn.Linear(1024,256)\n",
    "        self.n3 = nn.Linear(256,64)\n",
    "        self.n4 = nn.Linear(64,out_feature)\n",
    "    \n",
    "    def forward(self, x):\n",
    "        x = self.n1(x)\n",
    "        x = F.relu(x)\n",
    "        x = self.n2(x)\n",
    "        x = F.relu(x)\n",
    "        x = self.n3(x)\n",
    "        x = F.relu(x)\n",
    "        output = self.n4(x)\n",
    "        return output"
   ]
  },
  {
   "cell_type": "code",
   "execution_count": 28,
   "id": "b539b644",
   "metadata": {},
   "outputs": [],
   "source": [
    "batch_size=200\n",
    "custom_trainset = CustomDataset(X_train_tfidf.toarray(),y_train.values)\n",
    "custom_trainloader = torch.utils.data.DataLoader(custom_trainset, batch_size=batch_size, shuffle=True)\n",
    "custom_valiset = CustomDataset(X_test_tfidf.toarray(),y_test.values)\n",
    "custom_valiloader = torch.utils.data.DataLoader(custom_valiset, batch_size=batch_size, shuffle=True)"
   ]
  },
  {
   "cell_type": "code",
   "execution_count": 29,
   "id": "413c592c",
   "metadata": {
    "scrolled": true
   },
   "outputs": [
    {
     "name": "stdout",
     "output_type": "stream",
     "text": [
      "Train(1): Loss: 0.1507\n",
      "Train(2): Loss: 0.1272\n",
      "Train(3): Loss: 0.0868\n",
      "Train(4): Loss: 0.0397\n",
      "Train(5): Loss: 0.0157\n",
      "Train(6): Loss: 0.0048\n",
      "Train(7): Loss: 0.0024\n",
      "Train(8): Loss: 0.0020\n",
      "Train(9): Loss: 0.0016\n",
      "Train(10): Loss: 0.0016\n",
      "Train(11): Loss: 0.0015\n",
      "Train(12): Loss: 0.0014\n",
      "Train(13): Loss: 0.0014\n",
      "Train(14): Loss: 0.0014\n",
      "Train(15): Loss: 0.0014\n",
      "Train(16): Loss: 0.0013\n",
      "Train(17): Loss: 0.0013\n",
      "Train(18): Loss: 0.0013\n",
      "Train(19): Loss: 0.0014\n",
      "Train(20): Loss: 0.0013\n"
     ]
    }
   ],
   "source": [
    "seed = 1\n",
    "device = 'cuda'\n",
    "num_epochs = 20\n",
    "\n",
    "\n",
    "device = torch.device(device)\n",
    "torch.manual_seed(1)\n",
    "torch.cuda.manual_seed(1)\n",
    "model = NN(35781,6).to(device)\n",
    "optimizer = optim.Adam(model.parameters(),lr=0.001,weight_decay=1e-8)\n",
    "criterion = nn.MSELoss()\n",
    "loss_tr1 = []\n",
    "loss_te1 = []\n",
    "for epoch in range(1, num_epochs + 1):\n",
    "    train(model, criterion, optimizer,loss_tr1,loss_te1)\n",
    "    #test(model, device, custom_valiloader, criterion, epoch,loss_te1)\n",
    "\n",
    "\n",
    "loss_tr = [] \n",
    "loss_te = []\n",
    "for i in range(len(loss_tr1)):\n",
    "    loss_tr.append(loss_tr1[i])\n",
    "for i in range(len(loss_te1)):\n",
    "    loss_te.append(loss_te1[i])"
   ]
  },
  {
   "cell_type": "code",
   "execution_count": 30,
   "id": "9d954a38",
   "metadata": {},
   "outputs": [
    {
     "data": {
      "image/png": "[encoded data removed]",
      "text/plain": [
       "<Figure size 432x288 with 1 Axes>"
      ]
     },
     "metadata": {
      "needs_background": "light"
     },
     "output_type": "display_data"
    }
   ],
   "source": [
    "plot_loss(loss_tr,loss_te,.5)"
   ]
  },
  {
   "cell_type": "code",
   "execution_count": 31,
   "id": "d6f16ec5",
   "metadata": {},
   "outputs": [
    {
     "name": "stdout",
     "output_type": "stream",
     "text": [
      "Accuracy is 0.741\n",
      "Confusion matrix is:\n",
      "[[74  0  5  7  1 13]\n",
      " [ 2 72 10 11  3  2]\n",
      " [ 0  4 89  1  1  5]\n",
      " [ 5  4  2 65  4 19]\n",
      " [ 0  6  6 10 76  2]\n",
      " [13  2  4 12  1 68]]\n"
     ]
    }
   ],
   "source": [
    "## Accuracy Validation\n",
    "acc = 0\n",
    "with torch.no_grad():\n",
    "    X = torch.tensor(custom_valiset.X).to(device).float()\n",
    "    output = model(X)\n",
    "    output = output.cpu().detach().numpy()\n",
    "    y_pred = np.argmax(output,axis=1)\n",
    "print('Accuracy is {:.3f}'.format(accuracy_score(y_test, y_pred)))\n",
    "print('Confusion matrix is:\\n{}'.format(confusion_matrix(y_test, y_pred)))"
   ]
  },
  {
   "cell_type": "markdown",
   "id": "3b063c8e",
   "metadata": {},
   "source": [
    "### Word2Vec"
   ]
  },
  {
   "cell_type": "code",
   "execution_count": 32,
   "id": "6afaa52b",
   "metadata": {},
   "outputs": [],
   "source": [
    "import gensim\n",
    "from nltk import word_tokenize, sent_tokenize\n",
    "\n",
    "sent_words = [word_tokenize(w) for w in list(X_train.clean_text)]\n",
    "model = gensim.models.Word2Vec(sent_words, sg=1, vector_size =200, window=3,epochs=5,\n",
    "                               min_count=3, negative=3, sample=0.001, hs=1)\n",
    "model.wv.save_word2vec_format('./word2vec_model.txt', binary=False)"
   ]
  },
  {
   "cell_type": "code",
   "execution_count": 33,
   "id": "9d1bc538",
   "metadata": {},
   "outputs": [],
   "source": [
    "def average_word_vectors(text,model,num_features):\n",
    "    vocabulary=set(w2v_model.index_to_key)\n",
    "    words = word_tokenize(text)\n",
    "    feature_vector=np.zeros((num_features,),dtype='float64')\n",
    "    nwords=0\n",
    "    for word in words:\n",
    "        if word in vocabulary:\n",
    "            nwords=nwords+1\n",
    "            feature_vector=np.add(feature_vector,model[word])\n",
    "    if nwords:\n",
    "        feature_vector=np.divide(feature_vector,nwords)\n",
    "    return feature_vector\n",
    "\n",
    "\n",
    "def text2vector(df, w2v_model, num_features):\n",
    "    # prepare vectors for train/tex=st data\n",
    "    vectors = []\n",
    "    for i in range(len(df)):\n",
    "        val = average_word_vectors(df['clean_text'].iloc[i], w2v_model, num_features)\n",
    "        vectors.append(val)\n",
    "    return np.array(vectors)\n",
    "\n",
    "\n",
    "w2v_model = gensim.models.KeyedVectors.load_word2vec_format('word2vec_model.txt',binary=False)\n",
    "num_features = 200"
   ]
  },
  {
   "cell_type": "code",
   "execution_count": 34,
   "id": "9cdb4048",
   "metadata": {},
   "outputs": [],
   "source": [
    "from sklearn import svm\n",
    "\n",
    "clf = svm.SVC().fit(text2vector(X_train, w2v_model, num_features), y_train)\n",
    "y_pred = clf.predict(text2vector(X_test, w2v_model, num_features))"
   ]
  },
  {
   "cell_type": "code",
   "execution_count": 36,
   "id": "f25981ac",
   "metadata": {},
   "outputs": [
    {
     "name": "stdout",
     "output_type": "stream",
     "text": [
      "Accuracy is 0.67779632721202\n"
     ]
    },
    {
     "data": {
      "text/plain": [
       "array([[75,  1,  4,  7,  1, 12],\n",
       "       [ 3, 68,  9, 10,  6,  4],\n",
       "       [ 6,  9, 79,  1,  2,  3],\n",
       "       [12, 13,  6, 52,  3, 13],\n",
       "       [ 0,  5,  8,  6, 76,  5],\n",
       "       [15,  7, 10,  9,  3, 56]], dtype=int64)"
      ]
     },
     "execution_count": 36,
     "metadata": {},
     "output_type": "execute_result"
    }
   ],
   "source": [
    "from sklearn.metrics import confusion_matrix\n",
    "from sklearn.metrics import accuracy_score\n",
    "print('Accuracy is {}'.format(accuracy_score(y_test, y_pred)))\n",
    "confusion_matrix(y_test, y_pred)"
   ]
  },
  {
   "cell_type": "code",
   "execution_count": 37,
   "id": "34d6e661",
   "metadata": {},
   "outputs": [],
   "source": [
    "class NN(nn.Module):\n",
    "    def __init__(self,in_feature,out_feature):\n",
    "        super().__init__()\n",
    "        self.n1 = nn.Linear(in_feature,64)\n",
    "        self.n2 = nn.Linear(64,16)\n",
    "        self.n3 = nn.Linear(16,out_feature)\n",
    "    \n",
    "    def forward(self, x):\n",
    "        x = self.n1(x)\n",
    "        x = F.relu(x)\n",
    "        x = self.n2(x)\n",
    "        x = F.relu(x)\n",
    "        output = self.n3(x)\n",
    "        return output"
   ]
  },
  {
   "cell_type": "code",
   "execution_count": 38,
   "id": "f8fe47a6",
   "metadata": {},
   "outputs": [],
   "source": [
    "batch_size=512\n",
    "custom_trainset = CustomDataset(text2vector(X_train, w2v_model, num_features),y_train.values)\n",
    "custom_trainloader = torch.utils.data.DataLoader(custom_trainset, batch_size=batch_size, shuffle=True)\n",
    "custom_valiset = CustomDataset(text2vector(X_test, w2v_model, num_features),y_test.values)\n",
    "custom_valiloader = torch.utils.data.DataLoader(custom_valiset, batch_size=batch_size, shuffle=True)"
   ]
  },
  {
   "cell_type": "code",
   "execution_count": 39,
   "id": "13356265",
   "metadata": {
    "scrolled": true
   },
   "outputs": [
    {
     "name": "stdout",
     "output_type": "stream",
     "text": [
      "Train(1): Loss: 0.1765\n",
      "Train(2): Loss: 0.1426\n",
      "Train(3): Loss: 0.1380\n",
      "Train(4): Loss: 0.1324\n",
      "Train(5): Loss: 0.1255\n",
      "Train(6): Loss: 0.1212\n",
      "Train(7): Loss: 0.1192\n",
      "Train(8): Loss: 0.1173\n",
      "Train(9): Loss: 0.1156\n",
      "Train(10): Loss: 0.1142\n",
      "Train(11): Loss: 0.1123\n",
      "Train(12): Loss: 0.1103\n",
      "Train(13): Loss: 0.1087\n",
      "Train(14): Loss: 0.1073\n",
      "Train(15): Loss: 0.1060\n",
      "Train(16): Loss: 0.1047\n",
      "Train(17): Loss: 0.1031\n",
      "Train(18): Loss: 0.1011\n",
      "Train(19): Loss: 0.0996\n",
      "Train(20): Loss: 0.0978\n",
      "Train(21): Loss: 0.0953\n",
      "Train(22): Loss: 0.0935\n",
      "Train(23): Loss: 0.0919\n",
      "Train(24): Loss: 0.0904\n",
      "Train(25): Loss: 0.0893\n",
      "Train(26): Loss: 0.0894\n",
      "Train(27): Loss: 0.0885\n",
      "Train(28): Loss: 0.0882\n",
      "Train(29): Loss: 0.0880\n",
      "Train(30): Loss: 0.0868\n",
      "Train(31): Loss: 0.0866\n",
      "Train(32): Loss: 0.0863\n",
      "Train(33): Loss: 0.0856\n",
      "Train(34): Loss: 0.0845\n",
      "Train(35): Loss: 0.0836\n",
      "Train(36): Loss: 0.0822\n",
      "Train(37): Loss: 0.0810\n",
      "Train(38): Loss: 0.0803\n",
      "Train(39): Loss: 0.0793\n",
      "Train(40): Loss: 0.0783\n",
      "Train(41): Loss: 0.0775\n",
      "Train(42): Loss: 0.0772\n",
      "Train(43): Loss: 0.0758\n",
      "Train(44): Loss: 0.0760\n",
      "Train(45): Loss: 0.0754\n",
      "Train(46): Loss: 0.0746\n",
      "Train(47): Loss: 0.0733\n",
      "Train(48): Loss: 0.0737\n",
      "Train(49): Loss: 0.0732\n",
      "Train(50): Loss: 0.0728\n",
      "Train(51): Loss: 0.0708\n",
      "Train(52): Loss: 0.0707\n",
      "Train(53): Loss: 0.0695\n",
      "Train(54): Loss: 0.0690\n",
      "Train(55): Loss: 0.0685\n",
      "Train(56): Loss: 0.0680\n",
      "Train(57): Loss: 0.0675\n",
      "Train(58): Loss: 0.0675\n",
      "Train(59): Loss: 0.0671\n",
      "Train(60): Loss: 0.0659\n",
      "Train(61): Loss: 0.0666\n",
      "Train(62): Loss: 0.0650\n",
      "Train(63): Loss: 0.0655\n",
      "Train(64): Loss: 0.0642\n",
      "Train(65): Loss: 0.0636\n",
      "Train(66): Loss: 0.0633\n",
      "Train(67): Loss: 0.0636\n",
      "Train(68): Loss: 0.0623\n",
      "Train(69): Loss: 0.0628\n",
      "Train(70): Loss: 0.0620\n",
      "Train(71): Loss: 0.0618\n",
      "Train(72): Loss: 0.0622\n",
      "Train(73): Loss: 0.0608\n",
      "Train(74): Loss: 0.0602\n",
      "Train(75): Loss: 0.0606\n",
      "Train(76): Loss: 0.0597\n",
      "Train(77): Loss: 0.0598\n",
      "Train(78): Loss: 0.0598\n",
      "Train(79): Loss: 0.0591\n",
      "Train(80): Loss: 0.0595\n",
      "Train(81): Loss: 0.0590\n",
      "Train(82): Loss: 0.0599\n",
      "Train(83): Loss: 0.0593\n",
      "Train(84): Loss: 0.0598\n",
      "Train(85): Loss: 0.0592\n",
      "Train(86): Loss: 0.0589\n",
      "Train(87): Loss: 0.0583\n",
      "Train(88): Loss: 0.0580\n",
      "Train(89): Loss: 0.0578\n",
      "Train(90): Loss: 0.0564\n",
      "Train(91): Loss: 0.0565\n",
      "Train(92): Loss: 0.0556\n",
      "Train(93): Loss: 0.0554\n",
      "Train(94): Loss: 0.0555\n",
      "Train(95): Loss: 0.0559\n",
      "Train(96): Loss: 0.0559\n",
      "Train(97): Loss: 0.0550\n",
      "Train(98): Loss: 0.0549\n",
      "Train(99): Loss: 0.0556\n",
      "Train(100): Loss: 0.0559\n"
     ]
    }
   ],
   "source": [
    "seed = 1\n",
    "device = 'cuda'\n",
    "num_epochs = 100\n",
    "\n",
    "\n",
    "device = torch.device(device)\n",
    "torch.manual_seed(1)\n",
    "torch.cuda.manual_seed(1)\n",
    "model = NN(200,6).to(device)\n",
    "optimizer = optim.Adam(model.parameters(),lr=0.01,weight_decay=1e-8)\n",
    "criterion = nn.MSELoss()\n",
    "loss_tr1 = []\n",
    "loss_te1 = []\n",
    "for epoch in range(1, num_epochs + 1):\n",
    "    train(model, criterion, optimizer,loss_tr1,loss_te1)\n",
    "    #test(model, device, custom_valiloader, criterion, epoch,loss_te1)\n",
    "\n",
    "\n",
    "loss_tr = [] \n",
    "loss_te = []\n",
    "for i in range(len(loss_tr1)):\n",
    "    loss_tr.append(loss_tr1[i])\n",
    "for i in range(len(loss_te1)):\n",
    "    loss_te.append(loss_te1[i])"
   ]
  },
  {
   "cell_type": "code",
   "execution_count": 40,
   "id": "8d9a6be3",
   "metadata": {},
   "outputs": [
    {
     "data": {
      "image/png": "[encoded data removed]",
      "text/plain": [
       "<Figure size 432x288 with 1 Axes>"
      ]
     },
     "metadata": {
      "needs_background": "light"
     },
     "output_type": "display_data"
    }
   ],
   "source": [
    "plot_loss(loss_tr,loss_te,.5)"
   ]
  },
  {
   "cell_type": "code",
   "execution_count": 41,
   "id": "313cd3f4",
   "metadata": {},
   "outputs": [
    {
     "name": "stdout",
     "output_type": "stream",
     "text": [
      "Accuracy is 0.661\n",
      "Confusion matrix is:\n",
      "[[67  1  3  6  1 22]\n",
      " [ 3 63  6 15  7  6]\n",
      " [ 4  7 80  1  5  3]\n",
      " [ 9 10  7 49  4 20]\n",
      " [ 0  4  8  5 77  6]\n",
      " [13  6  6 11  4 60]]\n"
     ]
    }
   ],
   "source": [
    "## Accuracy Validation\n",
    "acc = 0\n",
    "with torch.no_grad():\n",
    "    X = torch.tensor(custom_valiset.X).to(device).float()\n",
    "    output = model(X)\n",
    "    output = output.cpu().detach().numpy()\n",
    "    y_pred = np.argmax(output,axis=1)\n",
    "print('Accuracy is {:.3f}'.format(accuracy_score(y_test, y_pred)))\n",
    "print('Confusion matrix is:\\n{}'.format(confusion_matrix(y_test, y_pred)))"
   ]
  }
 ],
 "metadata": {
  "kernelspec": {
   "display_name": "Python 3 (ipykernel)",
   "language": "python",
   "name": "python3"
  },
  "language_info": {
   "codemirror_mode": {
    "name": "ipython",
    "version": 3
   },
   "file_extension": ".py",
   "mimetype": "text/x-python",
   "name": "python",
   "nbconvert_exporter": "python",
   "pygments_lexer": "ipython3",
   "version": "3.9.7"
  }
 },
 "nbformat": 4,
 "nbformat_minor": 5
}
