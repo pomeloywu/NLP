{
 "cells": [
  {
   "cell_type": "code",
   "execution_count": 7,
   "id": "523e7ed5",
   "metadata": {},
   "outputs": [],
   "source": [
    "import pandas as pd\n",
    "import numpy as np\n",
    "from sklearn import preprocessing\n",
    "import gensim\n",
    "from sklearn.model_selection import train_test_split"
   ]
  },
  {
   "cell_type": "markdown",
   "id": "15a3649c",
   "metadata": {},
   "source": [
    "### Load Data"
   ]
  },
  {
   "cell_type": "code",
   "execution_count": 73,
   "id": "7e817ffc",
   "metadata": {},
   "outputs": [
    {
     "data": {
      "text/html": [
       "<div>\n",
       "<style scoped>\n",
       "    .dataframe tbody tr th:only-of-type {\n",
       "        vertical-align: middle;\n",
       "    }\n",
       "\n",
       "    .dataframe tbody tr th {\n",
       "        vertical-align: top;\n",
       "    }\n",
       "\n",
       "    .dataframe thead th {\n",
       "        text-align: right;\n",
       "    }\n",
       "</style>\n",
       "<table border=\"1\" class=\"dataframe\">\n",
       "  <thead>\n",
       "    <tr style=\"text-align: right;\">\n",
       "      <th></th>\n",
       "      <th>title</th>\n",
       "      <th>genre</th>\n",
       "      <th>summary</th>\n",
       "      <th>clean_text</th>\n",
       "      <th>clean_title</th>\n",
       "      <th>class</th>\n",
       "    </tr>\n",
       "  </thead>\n",
       "  <tbody>\n",
       "    <tr>\n",
       "      <th>0</th>\n",
       "      <td>Drowned Wednesday</td>\n",
       "      <td>fantasy</td>\n",
       "      <td>Drowned Wednesday is the first Trustee among ...</td>\n",
       "      <td>drown wednesday first trustee among morrow day...</td>\n",
       "      <td>drown wednesday</td>\n",
       "      <td>1</td>\n",
       "    </tr>\n",
       "    <tr>\n",
       "      <th>1</th>\n",
       "      <td>The Lost Hero</td>\n",
       "      <td>fantasy</td>\n",
       "      <td>As the book opens, Jason awakens on a school ...</td>\n",
       "      <td>book open jason awakens school bus unable reme...</td>\n",
       "      <td>lose hero</td>\n",
       "      <td>1</td>\n",
       "    </tr>\n",
       "    <tr>\n",
       "      <th>2</th>\n",
       "      <td>Thendara House</td>\n",
       "      <td>fantasy</td>\n",
       "      <td>The novel concerns the dwelling of the Darkov...</td>\n",
       "      <td>novel concern dwell darkovan order renunciates...</td>\n",
       "      <td>thendara house</td>\n",
       "      <td>1</td>\n",
       "    </tr>\n",
       "    <tr>\n",
       "      <th>3</th>\n",
       "      <td>The Thief</td>\n",
       "      <td>fantasy</td>\n",
       "      <td>Gen is released from prison by the magus, the...</td>\n",
       "      <td>gen release prison magus king scholar magus fi...</td>\n",
       "      <td>thief</td>\n",
       "      <td>1</td>\n",
       "    </tr>\n",
       "    <tr>\n",
       "      <th>4</th>\n",
       "      <td>The Sweet Far Thing</td>\n",
       "      <td>fantasy</td>\n",
       "      <td>The prologue begins with two men who are sear...</td>\n",
       "      <td>prologue begin two men search river london thr...</td>\n",
       "      <td>sweet far thing</td>\n",
       "      <td>1</td>\n",
       "    </tr>\n",
       "    <tr>\n",
       "      <th>...</th>\n",
       "      <td>...</td>\n",
       "      <td>...</td>\n",
       "      <td>...</td>\n",
       "      <td>...</td>\n",
       "      <td>...</td>\n",
       "      <td>...</td>\n",
       "    </tr>\n",
       "    <tr>\n",
       "      <th>2995</th>\n",
       "      <td>The Time Traveler's Wife</td>\n",
       "      <td>fantasy</td>\n",
       "      <td>This is the extraordinary love story of Clare ...</td>\n",
       "      <td>extraordinary love story clare henry meet clar...</td>\n",
       "      <td>time traveler wife</td>\n",
       "      <td>1</td>\n",
       "    </tr>\n",
       "    <tr>\n",
       "      <th>2996</th>\n",
       "      <td>Fantastic Beasts and Where to Find Them: The O...</td>\n",
       "      <td>fantasy</td>\n",
       "      <td>J.K. Rowling's screenwriting debut is captured...</td>\n",
       "      <td>j k rowling screenwriting debut capture exciti...</td>\n",
       "      <td>fantastic beast find original screenplay</td>\n",
       "      <td>1</td>\n",
       "    </tr>\n",
       "    <tr>\n",
       "      <th>2997</th>\n",
       "      <td>Charlie and the Chocolate Factory</td>\n",
       "      <td>fantasy</td>\n",
       "      <td>Charlie Bucket's wonderful adventure begins wh...</td>\n",
       "      <td>charlie bucket wonderful adventure begin find ...</td>\n",
       "      <td>charlie chocolate factory</td>\n",
       "      <td>1</td>\n",
       "    </tr>\n",
       "    <tr>\n",
       "      <th>2998</th>\n",
       "      <td>Frostbite</td>\n",
       "      <td>fantasy</td>\n",
       "      <td>Rose loves Dimitri, Dimitri might love Tasha, ...</td>\n",
       "      <td>rise love dimitri dimitri might love tasha mas...</td>\n",
       "      <td>frostbite</td>\n",
       "      <td>1</td>\n",
       "    </tr>\n",
       "    <tr>\n",
       "      <th>2999</th>\n",
       "      <td>Radiance</td>\n",
       "      <td>fantasy</td>\n",
       "      <td>The Prince of no value\\nBrishen Khaskem, princ...</td>\n",
       "      <td>prince value brishen khaskem prince kai live c...</td>\n",
       "      <td>radiance</td>\n",
       "      <td>1</td>\n",
       "    </tr>\n",
       "  </tbody>\n",
       "</table>\n",
       "<p>2991 rows × 6 columns</p>\n",
       "</div>"
      ],
      "text/plain": [
       "                                                  title    genre  \\\n",
       "0                                     Drowned Wednesday  fantasy   \n",
       "1                                         The Lost Hero  fantasy   \n",
       "2                                        Thendara House  fantasy   \n",
       "3                                             The Thief  fantasy   \n",
       "4                                   The Sweet Far Thing  fantasy   \n",
       "...                                                 ...      ...   \n",
       "2995                           The Time Traveler's Wife  fantasy   \n",
       "2996  Fantastic Beasts and Where to Find Them: The O...  fantasy   \n",
       "2997                  Charlie and the Chocolate Factory  fantasy   \n",
       "2998                                          Frostbite  fantasy   \n",
       "2999                                           Radiance  fantasy   \n",
       "\n",
       "                                                summary  \\\n",
       "0      Drowned Wednesday is the first Trustee among ...   \n",
       "1      As the book opens, Jason awakens on a school ...   \n",
       "2      The novel concerns the dwelling of the Darkov...   \n",
       "3      Gen is released from prison by the magus, the...   \n",
       "4      The prologue begins with two men who are sear...   \n",
       "...                                                 ...   \n",
       "2995  This is the extraordinary love story of Clare ...   \n",
       "2996  J.K. Rowling's screenwriting debut is captured...   \n",
       "2997  Charlie Bucket's wonderful adventure begins wh...   \n",
       "2998  Rose loves Dimitri, Dimitri might love Tasha, ...   \n",
       "2999  The Prince of no value\\nBrishen Khaskem, princ...   \n",
       "\n",
       "                                             clean_text  \\\n",
       "0     drown wednesday first trustee among morrow day...   \n",
       "1     book open jason awakens school bus unable reme...   \n",
       "2     novel concern dwell darkovan order renunciates...   \n",
       "3     gen release prison magus king scholar magus fi...   \n",
       "4     prologue begin two men search river london thr...   \n",
       "...                                                 ...   \n",
       "2995  extraordinary love story clare henry meet clar...   \n",
       "2996  j k rowling screenwriting debut capture exciti...   \n",
       "2997  charlie bucket wonderful adventure begin find ...   \n",
       "2998  rise love dimitri dimitri might love tasha mas...   \n",
       "2999  prince value brishen khaskem prince kai live c...   \n",
       "\n",
       "                                   clean_title  class  \n",
       "0                              drown wednesday      1  \n",
       "1                                    lose hero      1  \n",
       "2                               thendara house      1  \n",
       "3                                        thief      1  \n",
       "4                              sweet far thing      1  \n",
       "...                                        ...    ...  \n",
       "2995                        time traveler wife      1  \n",
       "2996  fantastic beast find original screenplay      1  \n",
       "2997                 charlie chocolate factory      1  \n",
       "2998                                 frostbite      1  \n",
       "2999                                  radiance      1  \n",
       "\n",
       "[2991 rows x 6 columns]"
      ]
     },
     "execution_count": 73,
     "metadata": {},
     "output_type": "execute_result"
    }
   ],
   "source": [
    "df_data = pd.read_csv('data_processed.csv').dropna()\n",
    "le = preprocessing.LabelEncoder()\n",
    "df_data['class'] = le.fit_transform(df_data.genre)\n",
    "df_data"
   ]
  },
  {
   "cell_type": "code",
   "execution_count": 74,
   "id": "352aa17e",
   "metadata": {},
   "outputs": [
    {
     "data": {
      "text/plain": [
       "array(['crime', 'fantasy', 'history', 'horror', 'science', 'thriller'],\n",
       "      dtype=object)"
      ]
     },
     "execution_count": 74,
     "metadata": {},
     "output_type": "execute_result"
    }
   ],
   "source": [
    "le.classes_"
   ]
  },
  {
   "cell_type": "code",
   "execution_count": 75,
   "id": "7c53b344",
   "metadata": {},
   "outputs": [],
   "source": [
    "X_train, X_test, y_train, y_test = train_test_split(df_data[['clean_text', 'clean_title']],\n",
    "                                                   df_data['class'], random_state = 42,\n",
    "                                                   test_size = 0.2, stratify=df_data['class'])"
   ]
  },
  {
   "cell_type": "markdown",
   "id": "5d1a7c6e",
   "metadata": {},
   "source": [
    "### CounterVectorize"
   ]
  },
  {
   "cell_type": "code",
   "execution_count": 76,
   "id": "0a14c330",
   "metadata": {},
   "outputs": [],
   "source": [
    "from sklearn.feature_extraction.text import CountVectorizer\n",
    "count_vect = CountVectorizer()\n",
    "X_train_countvec = count_vect.fit_transform(list(X_train.clean_text)).toarray()\n",
    "X_test_countvec = count_vect.transform(list(X_test.clean_text)).toarray()"
   ]
  },
  {
   "cell_type": "code",
   "execution_count": 77,
   "id": "bc0759c4",
   "metadata": {},
   "outputs": [],
   "source": [
    "from sklearn.naive_bayes import MultinomialNB\n",
    "\n",
    "clf = MultinomialNB().fit(X_train_countvec, y_train)\n",
    "y_pred = clf.predict(X_test_countvec)"
   ]
  },
  {
   "cell_type": "code",
   "execution_count": 78,
   "id": "4f16c6f1",
   "metadata": {},
   "outputs": [
    {
     "name": "stdout",
     "output_type": "stream",
     "text": [
      "Accuracy is 0.7212020033388982\n"
     ]
    },
    {
     "data": {
      "text/plain": [
       "array([[74,  0,  6,  9,  1, 10],\n",
       "       [ 2, 61, 13, 15,  5,  4],\n",
       "       [ 3,  2, 83,  6,  1,  5],\n",
       "       [ 6,  3,  3, 71,  4, 12],\n",
       "       [ 0,  1,  5, 11, 80,  3],\n",
       "       [15,  1,  6, 13,  2, 63]], dtype=int64)"
      ]
     },
     "execution_count": 78,
     "metadata": {},
     "output_type": "execute_result"
    }
   ],
   "source": [
    "from sklearn.metrics import confusion_matrix\n",
    "from sklearn.metrics import accuracy_score\n",
    "print('Accuracy is {}'.format(accuracy_score(y_test, y_pred)))\n",
    "confusion_matrix(y_test, y_pred)"
   ]
  },
  {
   "cell_type": "markdown",
   "id": "8a805b8d",
   "metadata": {},
   "source": [
    "### TF-IDF"
   ]
  },
  {
   "cell_type": "code",
   "execution_count": 79,
   "id": "f10e7f36",
   "metadata": {},
   "outputs": [],
   "source": [
    "from sklearn.feature_extraction.text import TfidfVectorizer\n",
    "\n",
    "tfidf_vector = TfidfVectorizer()\n",
    "X_train_tfidf = tfidf_vector.fit_transform(list(X_train.clean_text))\n",
    "X_test_tfidf = tfidf_vector.transform(list(X_test.clean_text))"
   ]
  },
  {
   "cell_type": "code",
   "execution_count": 80,
   "id": "80fda0b0",
   "metadata": {},
   "outputs": [],
   "source": [
    "from sklearn.naive_bayes import MultinomialNB\n",
    "\n",
    "clf = MultinomialNB().fit(X_train_tfidf, y_train)\n",
    "y_pred = clf.predict(X_test_tfidf)"
   ]
  },
  {
   "cell_type": "code",
   "execution_count": 81,
   "id": "437d8e92",
   "metadata": {},
   "outputs": [
    {
     "name": "stdout",
     "output_type": "stream",
     "text": [
      "Accuracy is 0.7395659432387313\n"
     ]
    },
    {
     "data": {
      "text/plain": [
       "array([[80,  0,  5,  4,  0, 11],\n",
       "       [ 3, 70, 11,  9,  4,  3],\n",
       "       [ 2,  3, 86,  2,  1,  6],\n",
       "       [ 7,  4,  5, 57,  4, 22],\n",
       "       [ 0,  1,  6,  9, 81,  3],\n",
       "       [ 9,  1,  6, 14,  1, 69]], dtype=int64)"
      ]
     },
     "execution_count": 81,
     "metadata": {},
     "output_type": "execute_result"
    }
   ],
   "source": [
    "from sklearn.metrics import confusion_matrix\n",
    "from sklearn.metrics import accuracy_score\n",
    "print('Accuracy is {}'.format(accuracy_score(y_test, y_pred)))\n",
    "confusion_matrix(y_test, y_pred)"
   ]
  },
  {
   "cell_type": "markdown",
   "id": "3b063c8e",
   "metadata": {},
   "source": [
    "### Word2Vec"
   ]
  },
  {
   "cell_type": "code",
   "execution_count": 167,
   "id": "6afaa52b",
   "metadata": {},
   "outputs": [],
   "source": [
    "import gensim\n",
    "from nltk import word_tokenize, sent_tokenize\n",
    "\n",
    "sent_words = [word_tokenize(w) for w in list(X_train.clean_text)]\n",
    "model = gensim.models.Word2Vec(sent_words, sg=1, vector_size =100, window=3,epochs=5,\n",
    "                               min_count=3, negative=3, sample=0.001, hs=1)\n",
    "model.wv.save_word2vec_format('./word2vec_model.txt', binary=False)"
   ]
  },
  {
   "cell_type": "code",
   "execution_count": 132,
   "id": "9d1bc538",
   "metadata": {},
   "outputs": [],
   "source": [
    "def average_word_vectors(text,model,num_features):\n",
    "    vocabulary=set(w2v_model.index_to_key)\n",
    "    words = word_tokenize(text)\n",
    "    feature_vector=np.zeros((num_features,),dtype='float64')\n",
    "    nwords=0\n",
    "    for word in words:\n",
    "        if word in vocabulary:\n",
    "            nwords=nwords+1\n",
    "            feature_vector=np.add(feature_vector,model[word])\n",
    "    if nwords:\n",
    "        feature_vector=np.divide(feature_vector,nwords)\n",
    "    return feature_vector\n",
    "\n",
    "\n",
    "def text2vector(df, w2v_model, num_features):\n",
    "    # prepare vectors for train/tex=st data\n",
    "    vectors = []\n",
    "    for i in range(len(df)):\n",
    "        val = average_word_vectors(df['clean_text'].iloc[i], w2v_model, num_features)\n",
    "        vectors.append(val)\n",
    "    return np.array(vectors)\n",
    "\n",
    "\n",
    "w2v_model = gensim.models.KeyedVectors.load_word2vec_format('word2vec_model.txt',binary=False)\n",
    "num_features = 100"
   ]
  },
  {
   "cell_type": "code",
   "execution_count": 165,
   "id": "9cdb4048",
   "metadata": {},
   "outputs": [],
   "source": [
    "from sklearn import svm\n",
    "\n",
    "clf = svm.SVC().fit(text2vector(X_train, w2v_model, num_features), y_train)\n",
    "y_pred = clf.predict(text2vector(X_test, w2v_model, num_features))"
   ]
  },
  {
   "cell_type": "code",
   "execution_count": 166,
   "id": "f25981ac",
   "metadata": {},
   "outputs": [
    {
     "name": "stdout",
     "output_type": "stream",
     "text": [
      "Accuracy is 0.669449081803005\n"
     ]
    },
    {
     "data": {
      "text/plain": [
       "array([[74,  1,  3,  7,  1, 14],\n",
       "       [ 4, 65, 10, 11,  4,  6],\n",
       "       [ 5,  8, 77,  2,  5,  3],\n",
       "       [14, 10,  5, 55,  4, 11],\n",
       "       [ 0,  5,  9,  6, 75,  5],\n",
       "       [15,  5, 11, 10,  4, 55]], dtype=int64)"
      ]
     },
     "execution_count": 166,
     "metadata": {},
     "output_type": "execute_result"
    }
   ],
   "source": [
    "from sklearn.metrics import confusion_matrix\n",
    "from sklearn.metrics import accuracy_score\n",
    "print('Accuracy is {}'.format(accuracy_score(y_test, y_pred)))\n",
    "confusion_matrix(y_test, y_pred)"
   ]
  }
 ],
 "metadata": {
  "kernelspec": {
   "display_name": "Python 3",
   "language": "python",
   "name": "python3"
  },
  "language_info": {
   "codemirror_mode": {
    "name": "ipython",
    "version": 3
   },
   "file_extension": ".py",
   "mimetype": "text/x-python",
   "name": "python",
   "nbconvert_exporter": "python",
   "pygments_lexer": "ipython3",
   "version": "3.8.8"
  }
 },
 "nbformat": 4,
 "nbformat_minor": 5
}
